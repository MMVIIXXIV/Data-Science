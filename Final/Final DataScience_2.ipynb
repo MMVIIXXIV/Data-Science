{
 "cells": [
  {
   "cell_type": "code",
   "execution_count": 1,
   "id": "f7d5628d",
   "metadata": {},
   "outputs": [],
   "source": [
    "import pandas as pd\n",
    "from sklearn.neighbors import KNeighborsClassifier\n",
    "from sklearn.datasets import load_iris\n",
    "from sklearn.model_selection import train_test_split\n",
    "from sklearn.metrics import accuracy_score\n",
    "import numpy as np\n",
    "import matplotlib.pyplot as plt\n",
    "import pandas as pd\n",
    "from sklearn.preprocessing import MinMaxScaler\n",
    "from sklearn . metrics import confusion_matrix\n",
    "from sklearn.model_selection import cross_val_score\n"
   ]
  },
  {
   "cell_type": "code",
   "execution_count": 2,
   "id": "f9e6012f",
   "metadata": {},
   "outputs": [
    {
     "name": "stdout",
     "output_type": "stream",
     "text": [
      "   account_length  area_code  international_plan  voice_mail_plan  \\\n",
      "0             128        415                   0                1   \n",
      "1             107        415                   0                1   \n",
      "2             137        415                   0                0   \n",
      "3              84        408                   1                0   \n",
      "4              75        415                   1                0   \n",
      "\n",
      "   number_vmail_messages  total_day_minutes  total_day_calls  \\\n",
      "0                     25              265.1              110   \n",
      "1                     26              161.6              123   \n",
      "2                      0              243.4              114   \n",
      "3                      0              299.4               71   \n",
      "4                      0              166.7              113   \n",
      "\n",
      "   total_day_charge  total_eve_minutes  total_eve_calls  total_eve_charge  \\\n",
      "0             45.07              197.4               99             16.78   \n",
      "1             27.47              195.5              103             16.62   \n",
      "2             41.38              121.2              110             10.30   \n",
      "3             50.90               61.9               88              5.26   \n",
      "4             28.34              148.3              122             12.61   \n",
      "\n",
      "   total_night_minutes  total_night_calls  total_night_charge  \\\n",
      "0                244.7                 91               11.01   \n",
      "1                254.4                103               11.45   \n",
      "2                162.6                104                7.32   \n",
      "3                196.9                 89                8.86   \n",
      "4                186.9                121                8.41   \n",
      "\n",
      "   total_intl_minutes  total_intl_calls  total_intl_charge  \\\n",
      "0                10.0                 3               2.70   \n",
      "1                13.7                 3               3.70   \n",
      "2                12.2                 5               3.29   \n",
      "3                 6.6                 7               1.78   \n",
      "4                10.1                 3               2.73   \n",
      "\n",
      "   customer_service_calls  churn  \n",
      "0                       1      0  \n",
      "1                       1      0  \n",
      "2                       0      0  \n",
      "3                       2      0  \n",
      "4                       3      0  \n"
     ]
    }
   ],
   "source": [
    "telecom_churn = pd.read_csv(\"telecom_churn.csv\",index_col=0)\n",
    "print(telecom_churn.head())"
   ]
  },
  {
   "cell_type": "code",
   "execution_count": 3,
   "id": "f461b701",
   "metadata": {},
   "outputs": [
    {
     "name": "stdout",
     "output_type": "stream",
     "text": [
      "account_length            0\n",
      "area_code                 0\n",
      "international_plan        0\n",
      "voice_mail_plan           0\n",
      "number_vmail_messages     0\n",
      "total_day_minutes         0\n",
      "total_day_calls           0\n",
      "total_day_charge          0\n",
      "total_eve_minutes         0\n",
      "total_eve_calls           0\n",
      "total_eve_charge          0\n",
      "total_night_minutes       0\n",
      "total_night_calls         0\n",
      "total_night_charge        0\n",
      "total_intl_minutes        0\n",
      "total_intl_calls          0\n",
      "total_intl_charge         0\n",
      "customer_service_calls    0\n",
      "churn                     0\n",
      "dtype: int64\n"
     ]
    }
   ],
   "source": [
    "print(telecom_churn.isnull().sum())"
   ]
  },
  {
   "cell_type": "code",
   "execution_count": 4,
   "id": "313b5fb6",
   "metadata": {},
   "outputs": [
    {
     "name": "stdout",
     "output_type": "stream",
     "text": [
      "account_length              int64\n",
      "area_code                   int64\n",
      "international_plan          int64\n",
      "voice_mail_plan             int64\n",
      "number_vmail_messages       int64\n",
      "total_day_minutes         float64\n",
      "total_day_calls             int64\n",
      "total_day_charge          float64\n",
      "total_eve_minutes         float64\n",
      "total_eve_calls             int64\n",
      "total_eve_charge          float64\n",
      "total_night_minutes       float64\n",
      "total_night_calls           int64\n",
      "total_night_charge        float64\n",
      "total_intl_minutes        float64\n",
      "total_intl_calls            int64\n",
      "total_intl_charge         float64\n",
      "customer_service_calls      int64\n",
      "churn                       int64\n",
      "dtype: object\n"
     ]
    }
   ],
   "source": [
    "print(telecom_churn.dtypes)"
   ]
  },
  {
   "cell_type": "code",
   "execution_count": 5,
   "id": "79d74ede",
   "metadata": {},
   "outputs": [
    {
     "name": "stdout",
     "output_type": "stream",
     "text": [
      "<class 'pandas.core.frame.DataFrame'>\n",
      "Int64Index: 3333 entries, 0 to 3332\n",
      "Data columns (total 19 columns):\n",
      " #   Column                  Non-Null Count  Dtype  \n",
      "---  ------                  --------------  -----  \n",
      " 0   account_length          3333 non-null   int64  \n",
      " 1   area_code               3333 non-null   int64  \n",
      " 2   international_plan      3333 non-null   int64  \n",
      " 3   voice_mail_plan         3333 non-null   int64  \n",
      " 4   number_vmail_messages   3333 non-null   int64  \n",
      " 5   total_day_minutes       3333 non-null   float64\n",
      " 6   total_day_calls         3333 non-null   int64  \n",
      " 7   total_day_charge        3333 non-null   float64\n",
      " 8   total_eve_minutes       3333 non-null   float64\n",
      " 9   total_eve_calls         3333 non-null   int64  \n",
      " 10  total_eve_charge        3333 non-null   float64\n",
      " 11  total_night_minutes     3333 non-null   float64\n",
      " 12  total_night_calls       3333 non-null   int64  \n",
      " 13  total_night_charge      3333 non-null   float64\n",
      " 14  total_intl_minutes      3333 non-null   float64\n",
      " 15  total_intl_calls        3333 non-null   int64  \n",
      " 16  total_intl_charge       3333 non-null   float64\n",
      " 17  customer_service_calls  3333 non-null   int64  \n",
      " 18  churn                   3333 non-null   int64  \n",
      "dtypes: float64(8), int64(11)\n",
      "memory usage: 520.8 KB\n"
     ]
    }
   ],
   "source": [
    "telecom_churn.info()"
   ]
  },
  {
   "cell_type": "code",
   "execution_count": 6,
   "id": "44d2918c",
   "metadata": {},
   "outputs": [],
   "source": [
    "from sklearn.model_selection import train_test_split\n",
    "X_train, X_test, y_train, y_test = train_test_split(telecom_churn[['total_day_charge', 'total_eve_charge',\"total_night_charge\",\"customer_service_calls\"]], telecom_churn['churn'], test_size=0.30, random_state=69)\n"
   ]
  },
  {
   "cell_type": "code",
   "execution_count": 7,
   "id": "75b6de6e",
   "metadata": {},
   "outputs": [
    {
     "data": {
      "text/html": [
       "<style>#sk-container-id-1 {color: black;}#sk-container-id-1 pre{padding: 0;}#sk-container-id-1 div.sk-toggleable {background-color: white;}#sk-container-id-1 label.sk-toggleable__label {cursor: pointer;display: block;width: 100%;margin-bottom: 0;padding: 0.3em;box-sizing: border-box;text-align: center;}#sk-container-id-1 label.sk-toggleable__label-arrow:before {content: \"▸\";float: left;margin-right: 0.25em;color: #696969;}#sk-container-id-1 label.sk-toggleable__label-arrow:hover:before {color: black;}#sk-container-id-1 div.sk-estimator:hover label.sk-toggleable__label-arrow:before {color: black;}#sk-container-id-1 div.sk-toggleable__content {max-height: 0;max-width: 0;overflow: hidden;text-align: left;background-color: #f0f8ff;}#sk-container-id-1 div.sk-toggleable__content pre {margin: 0.2em;color: black;border-radius: 0.25em;background-color: #f0f8ff;}#sk-container-id-1 input.sk-toggleable__control:checked~div.sk-toggleable__content {max-height: 200px;max-width: 100%;overflow: auto;}#sk-container-id-1 input.sk-toggleable__control:checked~label.sk-toggleable__label-arrow:before {content: \"▾\";}#sk-container-id-1 div.sk-estimator input.sk-toggleable__control:checked~label.sk-toggleable__label {background-color: #d4ebff;}#sk-container-id-1 div.sk-label input.sk-toggleable__control:checked~label.sk-toggleable__label {background-color: #d4ebff;}#sk-container-id-1 input.sk-hidden--visually {border: 0;clip: rect(1px 1px 1px 1px);clip: rect(1px, 1px, 1px, 1px);height: 1px;margin: -1px;overflow: hidden;padding: 0;position: absolute;width: 1px;}#sk-container-id-1 div.sk-estimator {font-family: monospace;background-color: #f0f8ff;border: 1px dotted black;border-radius: 0.25em;box-sizing: border-box;margin-bottom: 0.5em;}#sk-container-id-1 div.sk-estimator:hover {background-color: #d4ebff;}#sk-container-id-1 div.sk-parallel-item::after {content: \"\";width: 100%;border-bottom: 1px solid gray;flex-grow: 1;}#sk-container-id-1 div.sk-label:hover label.sk-toggleable__label {background-color: #d4ebff;}#sk-container-id-1 div.sk-serial::before {content: \"\";position: absolute;border-left: 1px solid gray;box-sizing: border-box;top: 0;bottom: 0;left: 50%;z-index: 0;}#sk-container-id-1 div.sk-serial {display: flex;flex-direction: column;align-items: center;background-color: white;padding-right: 0.2em;padding-left: 0.2em;position: relative;}#sk-container-id-1 div.sk-item {position: relative;z-index: 1;}#sk-container-id-1 div.sk-parallel {display: flex;align-items: stretch;justify-content: center;background-color: white;position: relative;}#sk-container-id-1 div.sk-item::before, #sk-container-id-1 div.sk-parallel-item::before {content: \"\";position: absolute;border-left: 1px solid gray;box-sizing: border-box;top: 0;bottom: 0;left: 50%;z-index: -1;}#sk-container-id-1 div.sk-parallel-item {display: flex;flex-direction: column;z-index: 1;position: relative;background-color: white;}#sk-container-id-1 div.sk-parallel-item:first-child::after {align-self: flex-end;width: 50%;}#sk-container-id-1 div.sk-parallel-item:last-child::after {align-self: flex-start;width: 50%;}#sk-container-id-1 div.sk-parallel-item:only-child::after {width: 0;}#sk-container-id-1 div.sk-dashed-wrapped {border: 1px dashed gray;margin: 0 0.4em 0.5em 0.4em;box-sizing: border-box;padding-bottom: 0.4em;background-color: white;}#sk-container-id-1 div.sk-label label {font-family: monospace;font-weight: bold;display: inline-block;line-height: 1.2em;}#sk-container-id-1 div.sk-label-container {text-align: center;}#sk-container-id-1 div.sk-container {/* jupyter's `normalize.less` sets `[hidden] { display: none; }` but bootstrap.min.css set `[hidden] { display: none !important; }` so we also need the `!important` here to be able to override the default hidden behavior on the sphinx rendered scikit-learn.org. See: https://github.com/scikit-learn/scikit-learn/issues/21755 */display: inline-block !important;position: relative;}#sk-container-id-1 div.sk-text-repr-fallback {display: none;}</style><div id=\"sk-container-id-1\" class=\"sk-top-container\"><div class=\"sk-text-repr-fallback\"><pre>KNeighborsClassifier(n_neighbors=6)</pre><b>In a Jupyter environment, please rerun this cell to show the HTML representation or trust the notebook. <br />On GitHub, the HTML representation is unable to render, please try loading this page with nbviewer.org.</b></div><div class=\"sk-container\" hidden><div class=\"sk-item\"><div class=\"sk-estimator sk-toggleable\"><input class=\"sk-toggleable__control sk-hidden--visually\" id=\"sk-estimator-id-1\" type=\"checkbox\" checked><label for=\"sk-estimator-id-1\" class=\"sk-toggleable__label sk-toggleable__label-arrow\">KNeighborsClassifier</label><div class=\"sk-toggleable__content\"><pre>KNeighborsClassifier(n_neighbors=6)</pre></div></div></div></div></div>"
      ],
      "text/plain": [
       "KNeighborsClassifier(n_neighbors=6)"
      ]
     },
     "execution_count": 7,
     "metadata": {},
     "output_type": "execute_result"
    }
   ],
   "source": [
    "k = 6\n",
    "knn_classifier = KNeighborsClassifier(n_neighbors=k)\n",
    "knn_classifier.fit(X_train, y_train)\n"
   ]
  },
  {
   "cell_type": "code",
   "execution_count": 8,
   "id": "09efad94",
   "metadata": {},
   "outputs": [
    {
     "name": "stdout",
     "output_type": "stream",
     "text": [
      "0.886\n"
     ]
    }
   ],
   "source": [
    "\n",
    "y_pred = knn_classifier.predict(X_test)\n",
    "\n",
    "accuracy = accuracy_score(y_test, y_pred)\n",
    "print(accuracy)"
   ]
  },
  {
   "cell_type": "code",
   "execution_count": 9,
   "id": "162474b3",
   "metadata": {},
   "outputs": [
    {
     "name": "stdout",
     "output_type": "stream",
     "text": [
      "0.8800959232613909\n"
     ]
    }
   ],
   "source": [
    "\n",
    "X_train, X_test, y_train, y_test = train_test_split(telecom_churn[['total_day_charge', 'total_eve_charge',\"total_night_charge\",\"customer_service_calls\"]], telecom_churn['churn'], test_size=0.25, random_state=69)\n",
    "k = 6\n",
    "knn_classifier = KNeighborsClassifier(n_neighbors=k)\n",
    "knn_classifier.fit(X_train, y_train)\n",
    "\n",
    "y_pred = knn_classifier.predict(X_test)\n",
    "\n",
    "accuracy = accuracy_score(y_test, y_pred)\n",
    "print(accuracy)"
   ]
  },
  {
   "cell_type": "code",
   "execution_count": 10,
   "id": "39dcfe55",
   "metadata": {},
   "outputs": [
    {
     "name": "stdout",
     "output_type": "stream",
     "text": [
      "0.8845577211394303\n"
     ]
    }
   ],
   "source": [
    "\n",
    "X_train, X_test, y_train, y_test = train_test_split(telecom_churn[['total_day_charge', 'total_eve_charge',\"total_night_charge\",\"customer_service_calls\"]], telecom_churn['churn'], test_size=0.20, random_state=69)\n",
    "k = 6\n",
    "knn_classifier = KNeighborsClassifier(n_neighbors=k)\n",
    "knn_classifier.fit(X_train, y_train)\n",
    "\n",
    "y_pred = knn_classifier.predict(X_test)\n",
    "\n",
    "accuracy = accuracy_score(y_test, y_pred)\n",
    "print(accuracy)"
   ]
  },
  {
   "cell_type": "markdown",
   "id": "8466d1e8",
   "metadata": {},
   "source": [
    "# Test size 30% give me the most/ best accuracy with a value of 0.886"
   ]
  },
  {
   "cell_type": "code",
   "execution_count": 11,
   "id": "b5da3fa6",
   "metadata": {},
   "outputs": [
    {
     "name": "stdout",
     "output_type": "stream",
     "text": [
      "[ 1  2  3  4  5  6  7  8  9 10 11 12 13 14 15 16 17 18 19 20]\n",
      "dict_values([0.833, 0.871, 0.886, 0.887, 0.891, 0.886, 0.888, 0.882, 0.889, 0.886, 0.889, 0.889, 0.895, 0.889, 0.894, 0.886, 0.892, 0.886, 0.888, 0.883])\n"
     ]
    },
    {
     "data": {
      "image/png": "[encoded data removed]",
      "text/plain": [
       "<Figure size 800x600 with 1 Axes>"
      ]
     },
     "metadata": {},
     "output_type": "display_data"
    }
   ],
   "source": [
    "#using 30 percent test size again to valide above statement\n",
    "\n",
    "X_train, X_test, y_train, y_test = train_test_split(telecom_churn[['total_day_charge', 'total_eve_charge',\"total_night_charge\",\"customer_service_calls\"]], telecom_churn['churn'], test_size=0.30, random_state=69)\n",
    "k = 6\n",
    "knn_classifier = KNeighborsClassifier(n_neighbors=k)\n",
    "knn_classifier.fit(X_train, y_train)\n",
    "\n",
    "y_pred = knn_classifier.predict(X_test)\n",
    "\n",
    "\n",
    "\n",
    "\n",
    "train_accuracies = {}\n",
    "test_accuracies = {}\n",
    "neighbors = np.arange(1,21)\n",
    "print(neighbors)\n",
    "for neighbor in neighbors:\n",
    " knn = KNeighborsClassifier(n_neighbors=neighbor)\n",
    " knn.fit(X_train,y_train)\n",
    " train_accuracies[neighbor] = knn.score(X_train, y_train)\n",
    " test_accuracies[neighbor] = knn.score(X_test, y_test)\n",
    "#print(train_accuracies.values())\n",
    "print(test_accuracies.values())\n",
    "my_train = list(train_accuracies.values())\n",
    "my_test = list(test_accuracies.values())\n",
    "plt.figure(figsize=(8,6))\n",
    "plt.title('KNN: Varing Number of Neighbors')\n",
    "plt.plot(neighbors, my_train, label='Training Accuracy')\n",
    "plt.plot(neighbors, my_test, label='Testing Accuracy')\n",
    "plt.legend()\n",
    "plt.xlabel('Number of Neighbors')\n",
    "plt.ylabel('Accuracy')\n",
    "plt.show()"
   ]
  },
  {
   "cell_type": "markdown",
   "id": "63fe62c9",
   "metadata": {},
   "source": [
    "# K=13 gives the best accuracy for my model with k value of 0.895 while k= 6 gives 0.886"
   ]
  },
  {
   "cell_type": "code",
   "execution_count": 17,
   "id": "dc16cbcf",
   "metadata": {},
   "outputs": [
    {
     "name": "stdout",
     "output_type": "stream",
     "text": [
      "      total_day_charge  total_eve_charge  total_night_charge  \\\n",
      "2909             29.60              8.42                9.52   \n",
      "2438             33.52             20.60                8.64   \n",
      "2150             38.42             25.89                8.15   \n",
      "2882             21.17             12.00               12.07   \n",
      "1161             29.02             15.22               12.69   \n",
      "...                ...               ...                 ...   \n",
      "221              28.22             14.83               11.02   \n",
      "985              58.96             21.21               12.39   \n",
      "2685             36.30             14.16                5.49   \n",
      "2271             22.44             19.65               14.10   \n",
      "179              39.46             24.85                9.05   \n",
      "\n",
      "      customer_service_calls  \n",
      "2909                       2  \n",
      "2438                       2  \n",
      "2150                       2  \n",
      "2882                       2  \n",
      "1161                       3  \n",
      "...                      ...  \n",
      "221                        1  \n",
      "985                        1  \n",
      "2685                       3  \n",
      "2271                       1  \n",
      "179                        3  \n",
      "\n",
      "[1000 rows x 4 columns]\n"
     ]
    }
   ],
   "source": [
    "\n",
    "X_train, X_test, y_train, y_test = train_test_split(telecom_churn[['total_day_charge', 'total_eve_charge',\"total_night_charge\",\"customer_service_calls\"]], telecom_churn['churn'], test_size=0.30, random_state=69)\n",
    "k = 13\n",
    "knn_classifier = KNeighborsClassifier(n_neighbors=k)\n",
    "knn_classifier.fit(X_train, y_train)\n",
    "\n",
    "\n",
    "\n",
    "X_new = np.array([[35.0,17.5,10.1,1],\n",
    "                 [107.0,19.0,24.1,0],\n",
    "                 [13.0,10.9,11.2,2],\n",
    "                 [67.9,45.7,34.5,1]])\n",
    "\n",
    "y_pred = knn_classifier.predict(X_new)\n",
    "accuracy = accuracy_score(y_test, y_pred)\n",
    "print(accuracy)"
   ]
  },
  {
   "cell_type": "code",
   "execution_count": 21,
   "id": "fca20148",
   "metadata": {},
   "outputs": [],
   "source": [
    "CustName = pd.read_csv(\"newData.csv\")\n",
    "X_new = CustName\n",
    "step = 2.5"
   ]
  },
  {
   "cell_type": "code",
   "execution_count": null,
   "id": "b0980e69",
   "metadata": {},
   "outputs": [],
   "source": [
    "# based on predictions, in my opinions , total_day_charge contribute to a churn."
   ]
  }
 ],
 "metadata": {
  "kernelspec": {
   "display_name": "Python 3 (ipykernel)",
   "language": "python",
   "name": "python3"
  },
  "language_info": {
   "codemirror_mode": {
    "name": "ipython",
    "version": 3
   },
   "file_extension": ".py",
   "mimetype": "text/x-python",
   "name": "python",
   "nbconvert_exporter": "python",
   "pygments_lexer": "ipython3",
   "version": "3.11.4"
  }
 },
 "nbformat": 4,
 "nbformat_minor": 5
}
